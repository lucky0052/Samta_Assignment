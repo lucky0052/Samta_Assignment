{
  "nbformat": 4,
  "nbformat_minor": 0,
  "metadata": {
    "colab": {
      "provenance": []
    },
    "kernelspec": {
      "name": "python3",
      "display_name": "Python 3"
    },
    "language_info": {
      "name": "python"
    }
  },
  "cells": [
    {
      "cell_type": "markdown",
      "source": [
        "# **Que:1**"
      ],
      "metadata": {
        "id": "mFoIfUcRPKu3"
      }
    },
    {
      "cell_type": "code",
      "source": [
        "def calculate_area(length,width):\n",
        "  if length == width:\n",
        "    return \"This is a Square!\"\n",
        "  else:\n",
        "    area = length * width\n",
        "    return area\n",
        "\n",
        "\n",
        "def result():\n",
        "  length, width = map(int,input('Enter the length and width : ').split())\n",
        "  print(calculate_area(length, width))\n",
        "\n",
        "result()"
      ],
      "metadata": {
        "colab": {
          "base_uri": "https://localhost:8080/"
        },
        "id": "G_0g8UQvPJIc",
        "outputId": "3b134477-3677-42f2-b655-7918c5948fbf"
      },
      "execution_count": 10,
      "outputs": [
        {
          "output_type": "stream",
          "name": "stdout",
          "text": [
            "Enter the length and width : 5 5\n",
            "This is a Square!\n"
          ]
        }
      ]
    },
    {
      "cell_type": "code",
      "source": [
        "result()"
      ],
      "metadata": {
        "colab": {
          "base_uri": "https://localhost:8080/"
        },
        "id": "Uzf9lmWiRt-p",
        "outputId": "822c33dd-0554-43f5-fc62-446cca4def7e"
      },
      "execution_count": 11,
      "outputs": [
        {
          "output_type": "stream",
          "name": "stdout",
          "text": [
            "Enter the length and width : 5 10\n",
            "50\n"
          ]
        }
      ]
    },
    {
      "cell_type": "markdown",
      "source": [
        "# **Que: 2**"
      ],
      "metadata": {
        "id": "7hWAYRzAR9fD"
      }
    },
    {
      "cell_type": "code",
      "source": [
        "def fibo(num):\n",
        "   if num <= 1:\n",
        "       return num\n",
        "   else:\n",
        "       return(fibo(num-1) + fibo(num-2))\n",
        "\n",
        "\n",
        "print(\"Fibonacci sequence:\")\n",
        "n = int(input('Enter the terms: '))\n",
        "for i in range(n):\n",
        "    print(fibo(i))\n"
      ],
      "metadata": {
        "colab": {
          "base_uri": "https://localhost:8080/"
        },
        "id": "Qwkj33iBR52N",
        "outputId": "20850ef5-a1f2-4b00-a38f-f84045e5f263"
      },
      "execution_count": 71,
      "outputs": [
        {
          "output_type": "stream",
          "name": "stdout",
          "text": [
            "Fibonacci sequence:\n",
            "Enter the terms: 8\n",
            "0\n",
            "1\n",
            "1\n",
            "2\n",
            "3\n",
            "5\n",
            "8\n",
            "13\n"
          ]
        }
      ]
    },
    {
      "cell_type": "markdown",
      "source": [
        "# **Que: 3**"
      ],
      "metadata": {
        "id": "3M2V1avSVllY"
      }
    },
    {
      "cell_type": "markdown",
      "source": [
        "**Install the mysql-connector library**"
      ],
      "metadata": {
        "id": "QenPXifIpml3"
      }
    },
    {
      "cell_type": "code",
      "source": [
        "!pip install mysql-connector-python"
      ],
      "metadata": {
        "colab": {
          "base_uri": "https://localhost:8080/"
        },
        "id": "yTiq6ZVqVr2U",
        "outputId": "8db7c580-2e6e-4a13-d816-739af5b5133f"
      },
      "execution_count": 12,
      "outputs": [
        {
          "output_type": "stream",
          "name": "stdout",
          "text": [
            "Collecting mysql-connector-python\n",
            "  Downloading mysql_connector_python-8.3.0-cp310-cp310-manylinux_2_17_x86_64.whl (21.5 MB)\n",
            "\u001b[2K     \u001b[90m━━━━━━━━━━━━━━━━━━━━━━━━━━━━━━━━━━━━━━━━\u001b[0m \u001b[32m21.5/21.5 MB\u001b[0m \u001b[31m31.1 MB/s\u001b[0m eta \u001b[36m0:00:00\u001b[0m\n",
            "\u001b[?25hInstalling collected packages: mysql-connector-python\n",
            "Successfully installed mysql-connector-python-8.3.0\n"
          ]
        }
      ]
    },
    {
      "cell_type": "markdown",
      "source": [
        "**Setup the connection with remote DB**"
      ],
      "metadata": {
        "id": "Ms18DWkhpxfA"
      }
    },
    {
      "cell_type": "code",
      "source": [
        "import mysql.connector\n",
        "\n",
        "db = mysql.connector.connect(\n",
        "  host=\"sql6.freesqldatabase.com\",\n",
        "  user=\"sql6680728\",\n",
        "  password=\"xVyyiVujG8\",\n",
        "  database=\"sql6680728\"\n",
        ")\n",
        "\n",
        "print(db)"
      ],
      "metadata": {
        "colab": {
          "base_uri": "https://localhost:8080/"
        },
        "id": "Y9O5y3T-WNET",
        "outputId": "b2fea283-4a50-4824-c843-e7475d1f7eff"
      },
      "execution_count": 18,
      "outputs": [
        {
          "output_type": "stream",
          "name": "stdout",
          "text": [
            "<mysql.connector.connection_cext.CMySQLConnection object at 0x7f971abbc1c0>\n"
          ]
        }
      ]
    },
    {
      "cell_type": "markdown",
      "source": [
        "**Create Table**"
      ],
      "metadata": {
        "id": "E05BRFP5qJ0E"
      }
    },
    {
      "cell_type": "code",
      "source": [
        "mycursor = db.cursor()\n",
        "mycursor.execute(\"CREATE TABLE Students (student_id INT AUTO_INCREMENT PRIMARY KEY, first_name VARCHAR(20), last_name varchar(20), age int(3), grade float )\")"
      ],
      "metadata": {
        "id": "DsxPNybdeNJJ"
      },
      "execution_count": 25,
      "outputs": []
    },
    {
      "cell_type": "markdown",
      "source": [
        "**Insert Data**"
      ],
      "metadata": {
        "id": "MvItWPBMpbsM"
      }
    },
    {
      "cell_type": "code",
      "source": [
        "def insert():\n",
        "  fname,lname, age, grade = input(\"Enter the fname,lname, age, grade : \").split(',')\n",
        "  sql = \"INSERT INTO Students (first_name, last_name, age, grade) VALUES(%s, %s, %s, %s)\"\n",
        "  mycursor.execute(sql,(fname,lname,age,grade))\n",
        "  db.commit()\n",
        "  print(mycursor.rowcount, \"was inserted.\")\n",
        "\n",
        "insert()"
      ],
      "metadata": {
        "colab": {
          "base_uri": "https://localhost:8080/"
        },
        "id": "XR6QB5w6f-Y8",
        "outputId": "03091860-66ff-4b67-de90-a9c8171466be"
      },
      "execution_count": 64,
      "outputs": [
        {
          "output_type": "stream",
          "name": "stdout",
          "text": [
            "Enter the fname,lname, age, grade : Alice,Smith,18,95.5\n",
            "1 was inserted.\n"
          ]
        }
      ]
    },
    {
      "cell_type": "markdown",
      "source": [
        "**Selecting all the rows in the table**"
      ],
      "metadata": {
        "id": "zlr7kC5GsQcf"
      }
    },
    {
      "cell_type": "code",
      "source": [
        "def select():\n",
        "\n",
        "  mycursor.execute(\"SELECT * FROM Students\")\n",
        "  myresult = mycursor.fetchall()\n",
        "  for x in myresult:\n",
        "    print(x)\n",
        "\n",
        "select()\n"
      ],
      "metadata": {
        "colab": {
          "base_uri": "https://localhost:8080/"
        },
        "id": "Nigf9X1fiHiV",
        "outputId": "530d8aa3-12ea-4fe0-a514-02f79000ce8b"
      },
      "execution_count": 65,
      "outputs": [
        {
          "output_type": "stream",
          "name": "stdout",
          "text": [
            "(2, 'Natalie', 'Parker', 18, 95.5)\n",
            "(4, 'f', 'l', 56, 78.6)\n",
            "(5, 'lucky', 'sharma', 78, 76.9)\n",
            "(8, 'Ryan', 'Smith', 43, 87.0)\n",
            "(9, 'Alice', 'Smith', 18, 95.5)\n"
          ]
        }
      ]
    },
    {
      "cell_type": "markdown",
      "source": [
        "**updating the table where condition meet**"
      ],
      "metadata": {
        "id": "yZ7zfBxHsVLi"
      }
    },
    {
      "cell_type": "code",
      "source": [
        "mycursor.execute(\"update Students set grade= 97.0 where first_name='Alice' \")\n",
        "db.commit()"
      ],
      "metadata": {
        "id": "mTZmAiQ7jQOS"
      },
      "execution_count": 66,
      "outputs": []
    },
    {
      "cell_type": "code",
      "source": [
        "select()\n"
      ],
      "metadata": {
        "colab": {
          "base_uri": "https://localhost:8080/"
        },
        "id": "gbvh-qa_kEK5",
        "outputId": "13e66fc5-752d-4937-c4a6-eb6ddef29ed6"
      },
      "execution_count": 67,
      "outputs": [
        {
          "output_type": "stream",
          "name": "stdout",
          "text": [
            "(2, 'Natalie', 'Parker', 18, 95.5)\n",
            "(4, 'f', 'l', 56, 78.6)\n",
            "(5, 'lucky', 'sharma', 78, 76.9)\n",
            "(8, 'Ryan', 'Smith', 43, 87.0)\n",
            "(9, 'Alice', 'Smith', 18, 97.0)\n"
          ]
        }
      ]
    },
    {
      "cell_type": "markdown",
      "source": [
        "**Deleting the row where condition meet**"
      ],
      "metadata": {
        "id": "CswF26PhsfcX"
      }
    },
    {
      "cell_type": "code",
      "source": [
        "mycursor.execute(\"delete FROM Students where last_name='Smith' \")\n",
        "db.commit()"
      ],
      "metadata": {
        "id": "EfLK-nn7lIYH"
      },
      "execution_count": 68,
      "outputs": []
    },
    {
      "cell_type": "markdown",
      "source": [
        "**Final Result**"
      ],
      "metadata": {
        "id": "QPK3XdqssqI2"
      }
    },
    {
      "cell_type": "code",
      "source": [
        "select()"
      ],
      "metadata": {
        "colab": {
          "base_uri": "https://localhost:8080/"
        },
        "id": "Eg5Tno6Zla_f",
        "outputId": "81b9656d-f817-4aa0-f0ec-bd467d695b09"
      },
      "execution_count": 69,
      "outputs": [
        {
          "output_type": "stream",
          "name": "stdout",
          "text": [
            "(2, 'Natalie', 'Parker', 18, 95.5)\n",
            "(4, 'f', 'l', 56, 78.6)\n",
            "(5, 'lucky', 'sharma', 78, 76.9)\n"
          ]
        }
      ]
    }
  ]
}